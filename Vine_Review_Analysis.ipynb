{
 "cells": [
  {
   "cell_type": "code",
   "execution_count": 1,
   "id": "5dfe4570",
   "metadata": {},
   "outputs": [],
   "source": [
    "import pandas as pd"
   ]
  },
  {
   "cell_type": "code",
   "execution_count": 12,
   "id": "62331de3",
   "metadata": {},
   "outputs": [],
   "source": [
    "# read in vine table csv\n",
    "vine_df = pd.read_csv(\"vine_table.csv\")"
   ]
  },
  {
   "cell_type": "code",
   "execution_count": 13,
   "id": "fdd1afed",
   "metadata": {},
   "outputs": [
    {
     "data": {
      "text/html": [
       "<div>\n",
       "<style scoped>\n",
       "    .dataframe tbody tr th:only-of-type {\n",
       "        vertical-align: middle;\n",
       "    }\n",
       "\n",
       "    .dataframe tbody tr th {\n",
       "        vertical-align: top;\n",
       "    }\n",
       "\n",
       "    .dataframe thead th {\n",
       "        text-align: right;\n",
       "    }\n",
       "</style>\n",
       "<table border=\"1\" class=\"dataframe\">\n",
       "  <thead>\n",
       "    <tr style=\"text-align: right;\">\n",
       "      <th></th>\n",
       "      <th>review_id</th>\n",
       "      <th>star_rating</th>\n",
       "      <th>helpful_votes</th>\n",
       "      <th>total_votes</th>\n",
       "      <th>vine</th>\n",
       "      <th>verified_purchase</th>\n",
       "    </tr>\n",
       "  </thead>\n",
       "  <tbody>\n",
       "    <tr>\n",
       "      <th>0</th>\n",
       "      <td>R1WBPB8MDCCN8F</td>\n",
       "      <td>5.0</td>\n",
       "      <td>0.0</td>\n",
       "      <td>0.0</td>\n",
       "      <td>N</td>\n",
       "      <td>N</td>\n",
       "    </tr>\n",
       "    <tr>\n",
       "      <th>1</th>\n",
       "      <td>R32M0YEWV77XG8</td>\n",
       "      <td>5.0</td>\n",
       "      <td>1.0</td>\n",
       "      <td>1.0</td>\n",
       "      <td>N</td>\n",
       "      <td>Y</td>\n",
       "    </tr>\n",
       "    <tr>\n",
       "      <th>2</th>\n",
       "      <td>RR8V7WR27NXJ5</td>\n",
       "      <td>1.0</td>\n",
       "      <td>0.0</td>\n",
       "      <td>0.0</td>\n",
       "      <td>N</td>\n",
       "      <td>Y</td>\n",
       "    </tr>\n",
       "    <tr>\n",
       "      <th>3</th>\n",
       "      <td>R1MHO5V9Z932AY</td>\n",
       "      <td>5.0</td>\n",
       "      <td>0.0</td>\n",
       "      <td>0.0</td>\n",
       "      <td>N</td>\n",
       "      <td>Y</td>\n",
       "    </tr>\n",
       "    <tr>\n",
       "      <th>4</th>\n",
       "      <td>R16PD71086BD2V</td>\n",
       "      <td>5.0</td>\n",
       "      <td>0.0</td>\n",
       "      <td>1.0</td>\n",
       "      <td>N</td>\n",
       "      <td>N</td>\n",
       "    </tr>\n",
       "  </tbody>\n",
       "</table>\n",
       "</div>"
      ],
      "text/plain": [
       "        review_id  star_rating  helpful_votes  total_votes vine  \\\n",
       "0  R1WBPB8MDCCN8F          5.0            0.0          0.0    N   \n",
       "1  R32M0YEWV77XG8          5.0            1.0          1.0    N   \n",
       "2   RR8V7WR27NXJ5          1.0            0.0          0.0    N   \n",
       "3  R1MHO5V9Z932AY          5.0            0.0          0.0    N   \n",
       "4  R16PD71086BD2V          5.0            0.0          1.0    N   \n",
       "\n",
       "  verified_purchase  \n",
       "0                 N  \n",
       "1                 Y  \n",
       "2                 Y  \n",
       "3                 Y  \n",
       "4                 N  "
      ]
     },
     "execution_count": 13,
     "metadata": {},
     "output_type": "execute_result"
    }
   ],
   "source": [
    "vine_df.head()"
   ]
  },
  {
   "cell_type": "code",
   "execution_count": 14,
   "id": "31188a85",
   "metadata": {},
   "outputs": [],
   "source": [
    "#filter to include only rows where total votes is >= 20\n",
    "\n",
    "vine_df = vine_df[vine_df['total_votes'] >= 20]"
   ]
  },
  {
   "cell_type": "code",
   "execution_count": 15,
   "id": "fabfb314",
   "metadata": {},
   "outputs": [],
   "source": [
    "#filter again to include only rows where helpful votes/total votes >.5\n",
    "vine_df = vine_df[vine_df['helpful_votes']/vine_df['total_votes'] >= 0.5]"
   ]
  },
  {
   "cell_type": "code",
   "execution_count": 16,
   "id": "8ae6e75c",
   "metadata": {},
   "outputs": [
    {
     "data": {
      "text/html": [
       "<div>\n",
       "<style scoped>\n",
       "    .dataframe tbody tr th:only-of-type {\n",
       "        vertical-align: middle;\n",
       "    }\n",
       "\n",
       "    .dataframe tbody tr th {\n",
       "        vertical-align: top;\n",
       "    }\n",
       "\n",
       "    .dataframe thead th {\n",
       "        text-align: right;\n",
       "    }\n",
       "</style>\n",
       "<table border=\"1\" class=\"dataframe\">\n",
       "  <thead>\n",
       "    <tr style=\"text-align: right;\">\n",
       "      <th></th>\n",
       "      <th>review_id</th>\n",
       "      <th>star_rating</th>\n",
       "      <th>helpful_votes</th>\n",
       "      <th>total_votes</th>\n",
       "      <th>vine</th>\n",
       "      <th>verified_purchase</th>\n",
       "    </tr>\n",
       "  </thead>\n",
       "  <tbody>\n",
       "    <tr>\n",
       "      <th>326</th>\n",
       "      <td>R1B4753QMTD8ON</td>\n",
       "      <td>5.0</td>\n",
       "      <td>32.0</td>\n",
       "      <td>32.0</td>\n",
       "      <td>N</td>\n",
       "      <td>N</td>\n",
       "    </tr>\n",
       "    <tr>\n",
       "      <th>662</th>\n",
       "      <td>R28BVHOEL6GCHZ</td>\n",
       "      <td>5.0</td>\n",
       "      <td>21.0</td>\n",
       "      <td>21.0</td>\n",
       "      <td>N</td>\n",
       "      <td>Y</td>\n",
       "    </tr>\n",
       "    <tr>\n",
       "      <th>1055</th>\n",
       "      <td>R27IB4BRKO71I0</td>\n",
       "      <td>2.0</td>\n",
       "      <td>16.0</td>\n",
       "      <td>20.0</td>\n",
       "      <td>N</td>\n",
       "      <td>Y</td>\n",
       "    </tr>\n",
       "    <tr>\n",
       "      <th>1225</th>\n",
       "      <td>RJ86OW12Y4NRL</td>\n",
       "      <td>5.0</td>\n",
       "      <td>124.0</td>\n",
       "      <td>128.0</td>\n",
       "      <td>N</td>\n",
       "      <td>Y</td>\n",
       "    </tr>\n",
       "    <tr>\n",
       "      <th>1448</th>\n",
       "      <td>R3KRABOWCH6ZE4</td>\n",
       "      <td>1.0</td>\n",
       "      <td>48.0</td>\n",
       "      <td>65.0</td>\n",
       "      <td>N</td>\n",
       "      <td>Y</td>\n",
       "    </tr>\n",
       "  </tbody>\n",
       "</table>\n",
       "</div>"
      ],
      "text/plain": [
       "           review_id  star_rating  helpful_votes  total_votes vine  \\\n",
       "326   R1B4753QMTD8ON          5.0           32.0         32.0    N   \n",
       "662   R28BVHOEL6GCHZ          5.0           21.0         21.0    N   \n",
       "1055  R27IB4BRKO71I0          2.0           16.0         20.0    N   \n",
       "1225   RJ86OW12Y4NRL          5.0          124.0        128.0    N   \n",
       "1448  R3KRABOWCH6ZE4          1.0           48.0         65.0    N   \n",
       "\n",
       "     verified_purchase  \n",
       "326                  N  \n",
       "662                  Y  \n",
       "1055                 Y  \n",
       "1225                 Y  \n",
       "1448                 Y  "
      ]
     },
     "execution_count": 16,
     "metadata": {},
     "output_type": "execute_result"
    }
   ],
   "source": [
    "vine_df.head()"
   ]
  },
  {
   "cell_type": "code",
   "execution_count": 18,
   "id": "68ed22d4",
   "metadata": {},
   "outputs": [
    {
     "data": {
      "text/html": [
       "<div>\n",
       "<style scoped>\n",
       "    .dataframe tbody tr th:only-of-type {\n",
       "        vertical-align: middle;\n",
       "    }\n",
       "\n",
       "    .dataframe tbody tr th {\n",
       "        vertical-align: top;\n",
       "    }\n",
       "\n",
       "    .dataframe thead th {\n",
       "        text-align: right;\n",
       "    }\n",
       "</style>\n",
       "<table border=\"1\" class=\"dataframe\">\n",
       "  <thead>\n",
       "    <tr style=\"text-align: right;\">\n",
       "      <th></th>\n",
       "      <th>review_id</th>\n",
       "      <th>star_rating</th>\n",
       "      <th>helpful_votes</th>\n",
       "      <th>total_votes</th>\n",
       "      <th>vine</th>\n",
       "      <th>verified_purchase</th>\n",
       "    </tr>\n",
       "  </thead>\n",
       "  <tbody>\n",
       "    <tr>\n",
       "      <th>5506</th>\n",
       "      <td>R32OMS1LSDRCOB</td>\n",
       "      <td>4.0</td>\n",
       "      <td>27.0</td>\n",
       "      <td>31.0</td>\n",
       "      <td>Y</td>\n",
       "      <td>N</td>\n",
       "    </tr>\n",
       "    <tr>\n",
       "      <th>24578</th>\n",
       "      <td>R2IPKK4I0XRCFR</td>\n",
       "      <td>4.0</td>\n",
       "      <td>16.0</td>\n",
       "      <td>21.0</td>\n",
       "      <td>Y</td>\n",
       "      <td>N</td>\n",
       "    </tr>\n",
       "    <tr>\n",
       "      <th>58364</th>\n",
       "      <td>RXYYJ8SGI9IX6</td>\n",
       "      <td>5.0</td>\n",
       "      <td>36.0</td>\n",
       "      <td>41.0</td>\n",
       "      <td>Y</td>\n",
       "      <td>N</td>\n",
       "    </tr>\n",
       "    <tr>\n",
       "      <th>63194</th>\n",
       "      <td>R1SAUBFC7T6JHC</td>\n",
       "      <td>5.0</td>\n",
       "      <td>73.0</td>\n",
       "      <td>75.0</td>\n",
       "      <td>Y</td>\n",
       "      <td>N</td>\n",
       "    </tr>\n",
       "    <tr>\n",
       "      <th>177724</th>\n",
       "      <td>R329HVJKKHWSG3</td>\n",
       "      <td>5.0</td>\n",
       "      <td>59.0</td>\n",
       "      <td>59.0</td>\n",
       "      <td>Y</td>\n",
       "      <td>N</td>\n",
       "    </tr>\n",
       "  </tbody>\n",
       "</table>\n",
       "</div>"
      ],
      "text/plain": [
       "             review_id  star_rating  helpful_votes  total_votes vine  \\\n",
       "5506    R32OMS1LSDRCOB          4.0           27.0         31.0    Y   \n",
       "24578   R2IPKK4I0XRCFR          4.0           16.0         21.0    Y   \n",
       "58364    RXYYJ8SGI9IX6          5.0           36.0         41.0    Y   \n",
       "63194   R1SAUBFC7T6JHC          5.0           73.0         75.0    Y   \n",
       "177724  R329HVJKKHWSG3          5.0           59.0         59.0    Y   \n",
       "\n",
       "       verified_purchase  \n",
       "5506                   N  \n",
       "24578                  N  \n",
       "58364                  N  \n",
       "63194                  N  \n",
       "177724                 N  "
      ]
     },
     "execution_count": 18,
     "metadata": {},
     "output_type": "execute_result"
    }
   ],
   "source": [
    "#create df for rows where vine = yes\n",
    "vine_program_df = vine_df[vine_df['vine']==\"Y\"]\n",
    "vine_program_df.head()"
   ]
  },
  {
   "cell_type": "code",
   "execution_count": 19,
   "id": "69676c9e",
   "metadata": {},
   "outputs": [
    {
     "data": {
      "text/html": [
       "<div>\n",
       "<style scoped>\n",
       "    .dataframe tbody tr th:only-of-type {\n",
       "        vertical-align: middle;\n",
       "    }\n",
       "\n",
       "    .dataframe tbody tr th {\n",
       "        vertical-align: top;\n",
       "    }\n",
       "\n",
       "    .dataframe thead th {\n",
       "        text-align: right;\n",
       "    }\n",
       "</style>\n",
       "<table border=\"1\" class=\"dataframe\">\n",
       "  <thead>\n",
       "    <tr style=\"text-align: right;\">\n",
       "      <th></th>\n",
       "      <th>review_id</th>\n",
       "      <th>star_rating</th>\n",
       "      <th>helpful_votes</th>\n",
       "      <th>total_votes</th>\n",
       "      <th>vine</th>\n",
       "      <th>verified_purchase</th>\n",
       "    </tr>\n",
       "  </thead>\n",
       "  <tbody>\n",
       "    <tr>\n",
       "      <th>326</th>\n",
       "      <td>R1B4753QMTD8ON</td>\n",
       "      <td>5.0</td>\n",
       "      <td>32.0</td>\n",
       "      <td>32.0</td>\n",
       "      <td>N</td>\n",
       "      <td>N</td>\n",
       "    </tr>\n",
       "    <tr>\n",
       "      <th>662</th>\n",
       "      <td>R28BVHOEL6GCHZ</td>\n",
       "      <td>5.0</td>\n",
       "      <td>21.0</td>\n",
       "      <td>21.0</td>\n",
       "      <td>N</td>\n",
       "      <td>Y</td>\n",
       "    </tr>\n",
       "    <tr>\n",
       "      <th>1055</th>\n",
       "      <td>R27IB4BRKO71I0</td>\n",
       "      <td>2.0</td>\n",
       "      <td>16.0</td>\n",
       "      <td>20.0</td>\n",
       "      <td>N</td>\n",
       "      <td>Y</td>\n",
       "    </tr>\n",
       "    <tr>\n",
       "      <th>1225</th>\n",
       "      <td>RJ86OW12Y4NRL</td>\n",
       "      <td>5.0</td>\n",
       "      <td>124.0</td>\n",
       "      <td>128.0</td>\n",
       "      <td>N</td>\n",
       "      <td>Y</td>\n",
       "    </tr>\n",
       "    <tr>\n",
       "      <th>1448</th>\n",
       "      <td>R3KRABOWCH6ZE4</td>\n",
       "      <td>1.0</td>\n",
       "      <td>48.0</td>\n",
       "      <td>65.0</td>\n",
       "      <td>N</td>\n",
       "      <td>Y</td>\n",
       "    </tr>\n",
       "  </tbody>\n",
       "</table>\n",
       "</div>"
      ],
      "text/plain": [
       "           review_id  star_rating  helpful_votes  total_votes vine  \\\n",
       "326   R1B4753QMTD8ON          5.0           32.0         32.0    N   \n",
       "662   R28BVHOEL6GCHZ          5.0           21.0         21.0    N   \n",
       "1055  R27IB4BRKO71I0          2.0           16.0         20.0    N   \n",
       "1225   RJ86OW12Y4NRL          5.0          124.0        128.0    N   \n",
       "1448  R3KRABOWCH6ZE4          1.0           48.0         65.0    N   \n",
       "\n",
       "     verified_purchase  \n",
       "326                  N  \n",
       "662                  Y  \n",
       "1055                 Y  \n",
       "1225                 Y  \n",
       "1448                 Y  "
      ]
     },
     "execution_count": 19,
     "metadata": {},
     "output_type": "execute_result"
    }
   ],
   "source": [
    "no_vine_program_df = vine_df[vine_df['vine']==\"N\"]\n",
    "no_vine_program_df.head()"
   ]
  },
  {
   "cell_type": "code",
   "execution_count": 24,
   "id": "912a1926",
   "metadata": {},
   "outputs": [
    {
     "data": {
      "text/plain": [
       "334"
      ]
     },
     "execution_count": 24,
     "metadata": {},
     "output_type": "execute_result"
    }
   ],
   "source": [
    "vine_program_total = vine_program_df['review_id'].count()\n",
    "vine_program_total"
   ]
  },
  {
   "cell_type": "code",
   "execution_count": 25,
   "id": "dc3a43fb",
   "metadata": {},
   "outputs": [
    {
     "data": {
      "text/plain": [
       "61614"
      ]
     },
     "execution_count": 25,
     "metadata": {},
     "output_type": "execute_result"
    }
   ],
   "source": [
    "no_vine_program_total = no_vine_program_df['review_id'].count()\n",
    "no_vine_program_total"
   ]
  },
  {
   "cell_type": "code",
   "execution_count": 34,
   "id": "e203b577",
   "metadata": {},
   "outputs": [
    {
     "data": {
      "text/plain": [
       "139"
      ]
     },
     "execution_count": 34,
     "metadata": {},
     "output_type": "execute_result"
    }
   ],
   "source": [
    "# sum five star reviews for vine program participants\n",
    "five_star_total_vine = vine_program_df[vine_program_df[\"star_rating\"]==5.0]['star_rating'].count()\n",
    "five_star_total_vine"
   ]
  },
  {
   "cell_type": "code",
   "execution_count": 36,
   "id": "82ed642e",
   "metadata": {},
   "outputs": [
    {
     "data": {
      "text/plain": [
       "32665"
      ]
     },
     "execution_count": 36,
     "metadata": {},
     "output_type": "execute_result"
    }
   ],
   "source": [
    "#sum five star reviews for non vine_program participants\n",
    "five_star_total_no_vine = no_vine_program_df[no_vine_program_df[\"star_rating\"]==5.0]['star_rating'].count()\n",
    "five_star_total_no_vine"
   ]
  },
  {
   "cell_type": "code",
   "execution_count": 39,
   "id": "82b185fe",
   "metadata": {},
   "outputs": [
    {
     "data": {
      "text/plain": [
       "41.61676646706587"
      ]
     },
     "execution_count": 39,
     "metadata": {},
     "output_type": "execute_result"
    }
   ],
   "source": [
    "# get percentage of five star reviews for vine program participants\n",
    "five_star_percentage_vine = five_star_total_vine/vine_program_total*100\n",
    "five_star_percentage_vine"
   ]
  },
  {
   "cell_type": "code",
   "execution_count": 40,
   "id": "3ec75080",
   "metadata": {},
   "outputs": [
    {
     "data": {
      "text/plain": [
       "53.01554841432142"
      ]
     },
     "execution_count": 40,
     "metadata": {},
     "output_type": "execute_result"
    }
   ],
   "source": [
    "# get percentage of five star reviews for non vine program participants\n",
    "five_star_percentage_no_vine = five_star_total_no_vine/no_vine_program_total*100\n",
    "five_star_percentage_no_vine"
   ]
  },
  {
   "cell_type": "code",
   "execution_count": null,
   "id": "c1631133",
   "metadata": {},
   "outputs": [],
   "source": []
  }
 ],
 "metadata": {
  "kernelspec": {
   "display_name": "PyhtonData",
   "language": "python",
   "name": "pyhtondata"
  },
  "language_info": {
   "codemirror_mode": {
    "name": "ipython",
    "version": 3
   },
   "file_extension": ".py",
   "mimetype": "text/x-python",
   "name": "python",
   "nbconvert_exporter": "python",
   "pygments_lexer": "ipython3",
   "version": "3.7.11"
  }
 },
 "nbformat": 4,
 "nbformat_minor": 5
}
